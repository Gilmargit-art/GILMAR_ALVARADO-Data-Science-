{
 "cells": [
  {
   "cell_type": "markdown",
   "id": "c60c7338-dec4-4576-8dd4-39ae5e6c59df",
   "metadata": {},
   "source": [
    "# Data Science Tools and Ecosystem"
   ]
  },
  {
   "cell_type": "markdown",
   "id": "5e906b59-0c67-4fb3-baeb-2067d6c8fdfe",
   "metadata": {},
   "source": [
    "#### In this notebook, Data Science Tools and Ecosystem are summarized."
   ]
  },
  {
   "cell_type": "markdown",
   "id": "965d192e-4dc3-4749-8339-8f6f9359b5b9",
   "metadata": {},
   "source": [
    "##### Some of the popular languages that Data Scientists use are:"
   ]
  },
  {
   "cell_type": "markdown",
   "id": "0cd0d0a3-7a99-4a61-b1ad-784761a7a642",
   "metadata": {},
   "source": [
    "1. Python\n",
    "2. R\n",
    "3. SQL"
   ]
  },
  {
   "cell_type": "markdown",
   "id": "f0ac9007-e7fb-4864-be34-70e7fe817479",
   "metadata": {},
   "source": [
    "##### Some of the commonly used libraries used by Data Scientists include:"
   ]
  },
  {
   "cell_type": "markdown",
   "id": "61faff75-5804-4a53-ba86-193704bb9a29",
   "metadata": {},
   "source": [
    "1. Panda\n",
    "2. NumPy\n",
    "3. Matplotlib"
   ]
  },
  {
   "cell_type": "markdown",
   "id": "a582c960-810a-4ea0-b7ba-1c3b048a92a0",
   "metadata": {},
   "source": [
    "|Data Science Tools|\n",
    "|------------|\n",
    "|Jupyter Notebook|\n",
    "|Rstudio|\n",
    "|Python|"
   ]
  },
  {
   "cell_type": "markdown",
   "id": "24bfe36f-c3e3-4231-a8a8-daee1669f50e",
   "metadata": {},
   "source": [
    "### Below are a few examples of evaluating arithmetic expressions in Python"
   ]
  },
  {
   "cell_type": "code",
   "execution_count": 22,
   "id": "512fef78-c25f-4f59-9bdf-451a0b385079",
   "metadata": {},
   "outputs": [
    {
     "data": {
      "text/plain": [
       "17"
      ]
     },
     "execution_count": 22,
     "metadata": {},
     "output_type": "execute_result"
    }
   ],
   "source": [
    "# This a simple arithmetic expression to mutiply then add integers\n",
    "(3*4)+5"
   ]
  },
  {
   "cell_type": "code",
   "execution_count": 32,
   "id": "db10e417-2557-4ed1-b016-6e3f6d8b4002",
   "metadata": {},
   "outputs": [
    {
     "data": {
      "text/plain": [
       "3.3333333333333335"
      ]
     },
     "execution_count": 32,
     "metadata": {},
     "output_type": "execute_result"
    }
   ],
   "source": [
    "# This will convert 200 minutes to hours by diving by 60\n",
    "200/60"
   ]
  },
  {
   "cell_type": "markdown",
   "id": "ce0060cb-8f44-4c52-95bf-d0d660bab4dc",
   "metadata": {},
   "source": [
    "**Objectives:**\n",
    "\n",
    "* Identify the criteria and roles for determining the language to learn\n",
    " * Define SQL elements and list their benefits\n",
    "*  Identify the users and uses of the R language\n",
    "* \r\n",
    "Identify the users and benefits of Pythf Julia.stHub"
   ]
  },
  {
   "cell_type": "markdown",
   "id": "9b486df6-4b40-4768-b21c-aa9baa1bb201",
   "metadata": {},
   "source": [
    "## Author\n",
    " Gilmar Alvarado"
   ]
  }
 ],
 "metadata": {
  "kernelspec": {
   "display_name": "Python 3 (ipykernel)",
   "language": "python",
   "name": "python3"
  },
  "language_info": {
   "codemirror_mode": {
    "name": "ipython",
    "version": 3
   },
   "file_extension": ".py",
   "mimetype": "text/x-python",
   "name": "python",
   "nbconvert_exporter": "python",
   "pygments_lexer": "ipython3",
   "version": "3.12.4"
  }
 },
 "nbformat": 4,
 "nbformat_minor": 5
}
